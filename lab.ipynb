{
 "cells": [
  {
   "cell_type": "markdown",
   "metadata": {},
   "source": [
    "# Теория алгоритмов. Лабораторная работа.\n",
    "\n",
    "Выполнил: _Алексей Косенко ИСТ-2022_\n"
   ]
  },
  {
   "cell_type": "markdown",
   "metadata": {},
   "source": [
    "#### Введение\n"
   ]
  },
  {
   "cell_type": "markdown",
   "metadata": {},
   "source": [
    "В качестве <b>практической проблемы</b> данной лабораторный работы, рассматривается задача преобразования массива, содержащего произвольные целые числа, к виду, когда каждый элемент преобразованного массива находится перед другим элементом этого массива, если его значение меньше (больше), чем значение сравниваемого элемента, и поиска конкретного элемента в массиве.\n"
   ]
  },
  {
   "cell_type": "markdown",
   "metadata": {},
   "source": [
    "#### Цели и задачи\n"
   ]
  },
  {
   "cell_type": "markdown",
   "metadata": {},
   "source": [
    "<b>Цель работы</b> — получение навыков основных приемов использования массивов, методов доступа к элементам массивов, их реорганизации и модификации.\n",
    "\n",
    "<b>Задачами</b> данной лабораторной работы являются:\n",
    "\n",
    "1. Реализация следующих алгоритмов:\n",
    "   - линейный поиск элемента в массиве;\n",
    "   - метод двоичного поиска элемента в упорядоченном массиве;\n",
    "   - метод сортировки выбором;\n",
    "   - метод сортировки включениями;\n",
    "   - метод быстрой сортировки;\n",
    "   - метод сортировки простым обменом (пузырьком).\n",
    "2. Демонстрация работоспособности реализаций:\n",
    "   - контроль работоспособности каждого из методов;\n",
    "   - контроль временных характеристик всех реализованных методов.\n",
    "3. Сравнительный анализ методов сортировки по временной характеристике.\n"
   ]
  },
  {
   "cell_type": "markdown",
   "metadata": {},
   "source": [
    "#### Ход работы:\n"
   ]
  },
  {
   "cell_type": "markdown",
   "metadata": {},
   "source": [
    "1. Разработка программы состоит из:\n",
    "\n",
    "   - Разработка модуля создания массива случайных чисел;\n",
    "   - Разработка модуля измерения времени выполнения программы;\n",
    "   - Разработка модулей реализации методов линейного и двоичного поиска элемента массива;\n",
    "   - Разработка модулей алгоритмов сортировки методом выбора, пузырька, включения, быстрой сортировки;\n",
    "   - Разработка реализации диалога с пользователем;\n",
    "   - Разработка модуля построения диаграмм и графиков эффективности алгоритмов сортировки\n",
    "\n",
    "2. Для простоты изложения описания алгоритмов примеры выпонение задач сортировки массивов будут проводиться по возрастанию.\n",
    "\n",
    "3. Значения элементов массива (случайных чисел) и ограничение размера массива (целое число) задается пользователем.\n",
    "\n",
    "4. При значении количества элементов массива менее 20, выводом программы является:\n",
    "   - неупорядоченный массив случайных чисел;\n",
    "   - количество элементов массива случайных чисел;\n",
    "   - массив после сортировки для каждого из алгоритмов сортировки.\n",
    "5. При значении количества элементов массива более 20, выводом программы является:\n",
    "\n",
    "   - первые и последние 10 элементов неупорядоченного массива случайных чисел;\n",
    "   - количество элементов массива случайных чисел;\n",
    "   - первые и последние 10 элементов массива после сортировки и время сортировки для каждого из видов алгоритмов сортировки.\n",
    "\n",
    "6. Содержимое массива формируется с помощью библиотек numpy и встроенного модуля random.\n",
    "\n",
    "7. Измерения времени выполения производится средствами _time_ (библиотеку указать).\n",
    "\n",
    "8. Поля для ввода пользовательских данных сопровождаются описанием.\n",
    "\n",
    "9. Структура программы отображает ход лабораторной работы, код программы сопровождается комментариями, отображающие назначение функций и употребляемых в них параметров (переменных).\n"
   ]
  },
  {
   "cell_type": "markdown",
   "metadata": {},
   "source": [
    "#### Импорт библиотек\n"
   ]
  },
  {
   "cell_type": "code",
   "execution_count": 25,
   "metadata": {},
   "outputs": [
    {
     "name": "stdout",
     "output_type": "stream",
     "text": [
      "Импорт библиотек завершен\n"
     ]
    }
   ],
   "source": [
    "import numpy as np # библиотека NumPy для использования массива как структуры данных\n",
    "import random # модуль random предоставляет функции для генерации случайных чисел.\n",
    "import time # модуль time\n",
    "import datetime # модуль datetime\n",
    "from line_profiler import LineProfiler\n",
    "print('Импорт библиотек завершен')"
   ]
  },
  {
   "cell_type": "markdown",
   "metadata": {},
   "source": [
    "#### Пользовательский ввод\n"
   ]
  },
  {
   "cell_type": "code",
   "execution_count": 26,
   "metadata": {},
   "outputs": [
    {
     "name": "stdout",
     "output_type": "stream",
     "text": [
      "Данные для формирования массива случайных чисел от -10 до 10 приняты, заданная длина массива: 100\n",
      "Значение элемента для поиска: 9\n"
     ]
    }
   ],
   "source": [
    "elem_start_limit = int(input('Введите начальное целое число для формирования случайного значения элемента массива: '))\n",
    "elem_finish_limit = int(input('Введите конечное целое число для формирования случайного значения элемента массива: '))\n",
    "array_elem_limit = int(input('Введите максимальное количество элементов массива случайных чисел: '))\n",
    "search_element = int(input('Введите значение элемента для поиска: '))\n",
    "print(f'Данные для формирования массива случайных чисел от {elem_start_limit} до {elem_finish_limit} приняты, заданная длина массива: {array_elem_limit}\\nЗначение элемента для поиска: {search_element}')"
   ]
  },
  {
   "cell_type": "markdown",
   "metadata": {},
   "source": [
    "#### Создание массива случайных чисел и его копии\n"
   ]
  },
  {
   "cell_type": "code",
   "execution_count": 27,
   "metadata": {},
   "outputs": [
    {
     "name": "stdout",
     "output_type": "stream",
     "text": [
      "Сформирован неотсортированный массив случайных чисел, длинною более 20 элементов.\n",
      "Первые 10 элементов массива: [ 2  6 -4  9  7  3 -5  9 -1 -4]\n",
      "Последние 10 элементов массива: [-9  6 -8  0 -4 -9  2 -9 -2  0]\n",
      "Длина массива: 100\n"
     ]
    }
   ],
   "source": [
    "def generate_random_array (elem_start_limit = -100, elem_finish_limit = 100, size = array_elem_limit): # функция генерирует массив случайных чисел. Аргументы - пользовательский ввод.\n",
    "  random_array = np.random.randint(elem_start_limit, elem_finish_limit, size = array_elem_limit, dtype=int)\n",
    "  if (array_elem_limit <= 20): # проверка массива на количество элементов\n",
    "    print(f'Сформирован неотсортированный массив случайных чисел, длинною менее 20 элементов:\\n{random_array}\\nДлина массива: {array_elem_limit}')\n",
    "  else:\n",
    "    print(f'Сформирован неотсортированный массив случайных чисел, длинною более 20 элементов.\\nПервые 10 элементов массива: {random_array[:10]}\\nПоследние 10 элементов массива: {random_array[-10:]}\\nДлина массива: {len(random_array)}')\n",
    "  return random_array\n",
    "\n",
    "def array_copy (array): # функция-обертка для создания копии массива\n",
    "  print('Копия исследуемого массива создана успешно')\n",
    "  array_copy = np.copy(array)\n",
    "  return array_copy\n",
    "\n",
    "random_array = generate_random_array (elem_start_limit, elem_finish_limit, array_elem_limit) # неупорядоченный массив случайных чисел \n",
    "array_len = len(random_array) # длина неупорядоченного массива случайных чисел"
   ]
  },
  {
   "cell_type": "markdown",
   "metadata": {},
   "source": [
    "#### Измерение параметров выполнения алгоритма\n"
   ]
  },
  {
   "cell_type": "code",
   "execution_count": 28,
   "metadata": {},
   "outputs": [],
   "source": [
    "def getTime (fn): # функция для измерения времени работы программного кода\n",
    "\n",
    "  start = datetime.datetime.now() # Фиксируется и выводится время старта работы кода\n",
    "  print('Время начала выполнения: ' + str(start))\n",
    "\n",
    "  start_ns = time.perf_counter() # Фиксируется время в наносекундах\n",
    "  start_procces = time.process_time() # Фиксируется время процесса\n",
    "  start_thread = time.thread_time() # Фиксируется время потока\n",
    "\n",
    "  fn # Код, время работы которого измеряется\n",
    "\n",
    "  finish = datetime.datetime.now() # Фиксируется и выводится время окончания работы кода\n",
    "  print('Время завершения выполнения: ' + str(start))\n",
    "\n",
    "  finish_ns = time.perf_counter() # Фиксируется время в наносекундах\n",
    "  finish_procces = time.process_time() # Фиксируется время процесса\n",
    "  finish_thread = time.thread_time() # Фиксируется время потока\n",
    "\n",
    "  res = finish - start # Результат вычитания время старта из времени окончания \n",
    "\n",
    "  res_ns = start_ns - finish_ns # Результат вычитания время старта из времени окончания в наносекундах, без зафисимости от системных часов для уменьшения погрешностей\n",
    "  res_procces = finish_procces - start_procces # Результат времени процесса\n",
    "  res_thread = finish_thread - start_thread # Результат времени потока\n",
    "  print('Время работы в секундах: ', res)\n",
    "  print('Время работы в наносекундах: ', res_ns)\n",
    "  print('Время процесса: ', res_procces)\n",
    "  print('Время потока: ', res_thread)\n",
    "\n",
    "def getStats (fn, array): # функция для измерения статистики работы программного кода\n",
    "  lp = LineProfiler()\n",
    "  lp_wrapper = lp(fn)\n",
    "  lp_wrapper(array)\n",
    "  lp.print_stats()\n",
    "\n",
    "def getInfo (fn, array): # функция сбора информации о работе программного кода\n",
    "  getStats(fn, array)\n",
    "  getTime (fn)"
   ]
  },
  {
   "cell_type": "markdown",
   "metadata": {},
   "source": [
    "#### Поиск максимального элемента в массиве\n"
   ]
  },
  {
   "cell_type": "code",
   "execution_count": 29,
   "metadata": {},
   "outputs": [
    {
     "name": "stdout",
     "output_type": "stream",
     "text": [
      "Копия исследуемого массива создана успешно\n",
      "Максимальное число в массиве: 9\n",
      "Максимальное число методом библиотеки NumPy: 9\n"
     ]
    }
   ],
   "source": [
    "testing_array = array_copy(random_array)\n",
    "\n",
    "def custom_search_max_elem(array):\n",
    "    max_value = array[0]\n",
    "    for i in range(1, len(array)):\n",
    "        if array[i] > max_value:\n",
    "            max_value = array[i]\n",
    "    print(f'Максимальное число в массиве: {max_value}')\n",
    "    return max_value\n",
    "\n",
    "def lib_search_max_elem (array):\n",
    "    lib_max_elem = np.max(array)\n",
    "    return lib_max_elem\n",
    "\n",
    "custom_search_max_elem(testing_array)\n",
    "\n",
    "print(f'Максимальное число методом библиотеки NumPy: {lib_search_max_elem(testing_array)}')"
   ]
  },
  {
   "cell_type": "markdown",
   "metadata": {},
   "source": [
    "##### Статистика кастомного и библиотечного методов поиска элемента с максимальным значением\n"
   ]
  },
  {
   "cell_type": "code",
   "execution_count": 30,
   "metadata": {},
   "outputs": [
    {
     "name": "stdout",
     "output_type": "stream",
     "text": [
      "Статистика кастомного метода поиска:\n",
      "\n",
      "Максимальное число в массиве: 9\n",
      "Timer unit: 1e-09 s\n",
      "\n",
      "Total time: 7.3485e-05 s\n",
      "File: /tmp/ipykernel_5781/910505274.py\n",
      "Function: custom_search_max_elem at line 3\n",
      "\n",
      "Line #      Hits         Time  Per Hit   % Time  Line Contents\n",
      "==============================================================\n",
      "     3                                           def custom_search_max_elem(array):\n",
      "     4         1       4768.0   4768.0      6.5      max_value = array[0]\n",
      "     5       100      20833.0    208.3     28.4      for i in range(1, len(array)):\n",
      "     6        99      31311.0    316.3     42.6          if array[i] > max_value:\n",
      "     7         2        897.0    448.5      1.2              max_value = array[i]\n",
      "     8         1      15490.0  15490.0     21.1      print(f'Максимальное число в массиве: {max_value}')\n",
      "     9         1        186.0    186.0      0.3      return max_value\n",
      "\n",
      "Время начала выполнения: 2024-03-20 07:32:06.894747\n",
      "Время завершения выполнения: 2024-03-20 07:32:06.894747\n",
      "Время работы в секундах:  0:00:00.000024\n",
      "Время работы в наносекундах:  -1.3996000006955e-05\n",
      "Время процесса:  1.2279000000336993e-05\n",
      "Время потока:  9.40599999998959e-06\n",
      "Статистика библиотечного метода поиска:\n",
      "\n",
      "Timer unit: 1e-09 s\n",
      "\n",
      "Total time: 3.4943e-05 s\n",
      "File: /tmp/ipykernel_5781/910505274.py\n",
      "Function: lib_search_max_elem at line 11\n",
      "\n",
      "Line #      Hits         Time  Per Hit   % Time  Line Contents\n",
      "==============================================================\n",
      "    11                                           def lib_search_max_elem (array):\n",
      "    12         1      34744.0  34744.0     99.4      lib_max_elem = np.max(array)\n",
      "    13         1        199.0    199.0      0.6      return lib_max_elem\n",
      "\n",
      "Время начала выполнения: 2024-03-20 07:32:06.895122\n",
      "Время завершения выполнения: 2024-03-20 07:32:06.895122\n",
      "Время работы в секундах:  0:00:00.000014\n",
      "Время работы в наносекундах:  -9.19899997597895e-06\n",
      "Время процесса:  8.761999999773451e-06\n",
      "Время потока:  8.154999999954171e-06\n"
     ]
    }
   ],
   "source": [
    "print('Статистика кастомного метода поиска:\\n')\n",
    "getInfo (custom_search_max_elem, testing_array)\n",
    "print('Статистика библиотечного метода поиска:\\n')\n",
    "getInfo (lib_search_max_elem, testing_array)"
   ]
  },
  {
   "cell_type": "markdown",
   "metadata": {},
   "source": [
    "#### Поиск элемента в массиве методом линейного поиска\n"
   ]
  },
  {
   "cell_type": "code",
   "execution_count": 31,
   "metadata": {},
   "outputs": [
    {
     "name": "stdout",
     "output_type": "stream",
     "text": [
      "Копия исследуемого массива создана успешно\n",
      "Индекс искомого элемента: 3\n",
      "Индекс искомого элемента: 3\n"
     ]
    },
    {
     "data": {
      "text/plain": [
       "3"
      ]
     },
     "execution_count": 31,
     "metadata": {},
     "output_type": "execute_result"
    }
   ],
   "source": [
    "def linealSearch (array, element):\n",
    "  index_elem = 0 # Стартовый индекс\n",
    "\n",
    "  while (index_elem < array_len and array[index_elem] != element): # Пока индекс элемента меньше длины массива и значение элемента массива не равно искомому элементу:\n",
    "      index_elem = index_elem + 1 # Увеличение элемента на 1\n",
    "  if (index_elem < array_len): \n",
    "     print(f'Индекс искомого элемента: {index_elem}')\n",
    "     return index_elem # Если элемент найден - возвращается индекс элемента\n",
    "  print(f'Элемент {element} не найден')\n",
    "  return -1 # Если элемент не найден - возвращается -1 \n",
    "\n",
    "def linearSearch_with_for (array, element):\n",
    "    for i in range (len(array)):\n",
    "        if array[i] == element:\n",
    "            print(f'Индекс искомого элемента: {i}')\n",
    "            return i\n",
    "    print(f'Элемент {element} не найден')\n",
    "    return -1\n",
    "\n",
    "array_ls = array_copy(random_array)\n",
    "\n",
    "linealSearch(array_ls, search_element)\n",
    "linearSearch_with_for(array_ls, search_element)"
   ]
  },
  {
   "cell_type": "markdown",
   "metadata": {},
   "source": [
    "#### Сортировка выбором\n"
   ]
  },
  {
   "cell_type": "code",
   "execution_count": 33,
   "metadata": {},
   "outputs": [
    {
     "name": "stdout",
     "output_type": "stream",
     "text": [
      "Копия исследуемого массива создана успешно\n"
     ]
    },
    {
     "data": {
      "text/plain": [
       "array([-10, -10, -10, -10,  -9,  -9,  -9,  -9,  -9,  -9,  -9,  -9,  -8,\n",
       "        -8,  -8,  -8,  -7,  -7,  -6,  -6,  -6,  -6,  -6,  -5,  -5,  -5,\n",
       "        -5,  -4,  -4,  -4,  -4,  -4,  -4,  -3,  -3,  -3,  -3,  -2,  -2,\n",
       "        -2,  -2,  -1,  -1,  -1,  -1,  -1,  -1,  -1,  -1,   0,   0,   0,\n",
       "         1,   2,   2,   2,   2,   2,   2,   2,   2,   2,   2,   3,   3,\n",
       "         3,   3,   3,   4,   4,   4,   4,   5,   5,   6,   6,   6,   6,\n",
       "         6,   6,   6,   6,   6,   6,   7,   7,   7,   7,   7,   7,   7,\n",
       "         7,   8,   8,   8,   8,   8,   8,   9,   9])"
      ]
     },
     "execution_count": 33,
     "metadata": {},
     "output_type": "execute_result"
    }
   ],
   "source": [
    "def selectionSort(array):\n",
    "    for i in range(array_len - 1):\n",
    "        min_idx = i\n",
    "\n",
    "        for j in range(i + 1, array_len):\n",
    "            if array[j] < array[min_idx]:\n",
    "                min_idx = j\n",
    "                \n",
    "        array[i], array[min_idx] = array[min_idx], array[i]\n",
    "    return array\n",
    "\n",
    "array_ss = array_copy(random_array)\n",
    "selectionSort(array_ss)"
   ]
  },
  {
   "cell_type": "markdown",
   "metadata": {},
   "source": [
    "#### Сортировка включениями (вставками)\n"
   ]
  },
  {
   "cell_type": "code",
   "execution_count": 34,
   "metadata": {},
   "outputs": [
    {
     "name": "stdout",
     "output_type": "stream",
     "text": [
      "Копия исследуемого массива создана успешно\n"
     ]
    },
    {
     "data": {
      "text/plain": [
       "array([-10, -10, -10, -10,  -9,  -9,  -9,  -9,  -9,  -9,  -9,  -9,  -8,\n",
       "        -8,  -8,  -8,  -7,  -7,  -6,  -6,  -6,  -6,  -6,  -5,  -5,  -5,\n",
       "        -5,  -4,  -4,  -4,  -4,  -4,  -4,  -3,  -3,  -3,  -3,  -2,  -2,\n",
       "        -2,  -2,  -1,  -1,  -1,  -1,  -1,  -1,  -1,  -1,   0,   0,   0,\n",
       "         1,   2,   2,   2,   2,   2,   2,   2,   2,   2,   2,   3,   3,\n",
       "         3,   3,   3,   4,   4,   4,   4,   5,   5,   6,   6,   6,   6,\n",
       "         6,   6,   6,   6,   6,   6,   7,   7,   7,   7,   7,   7,   7,\n",
       "         7,   8,   8,   8,   8,   8,   8,   9,   9])"
      ]
     },
     "execution_count": 34,
     "metadata": {},
     "output_type": "execute_result"
    }
   ],
   "source": [
    "def insertionSort(array):\n",
    "    for i in range(1, array_len):\n",
    "        tmp = array[i]\n",
    "        j = i - 1\n",
    "        while (j >= 0 and array[j] > tmp):\n",
    "            array[j + 1] = array[j]\n",
    "            j -= 1\n",
    "        array[j + 1] = tmp\n",
    "    return array\n",
    "\n",
    "array_is = array_copy(random_array)\n",
    "insertionSort(array_is)"
   ]
  },
  {
   "cell_type": "markdown",
   "metadata": {},
   "source": [
    "#### Поиск элемента в массиве методом бинарного поиска\n"
   ]
  },
  {
   "cell_type": "code",
   "execution_count": 35,
   "metadata": {},
   "outputs": [
    {
     "name": "stdout",
     "output_type": "stream",
     "text": [
      "Элемент 9 имеет индекс 98\n"
     ]
    }
   ],
   "source": [
    "def binarySearch (array, element):\n",
    "  low = 0\n",
    "  # high = array_len - 1\n",
    "  high = len(array) - 1\n",
    "\n",
    "  while low <= high:\n",
    "    mid = round((low + high) / 2)\n",
    "    guess = array[mid]\n",
    "    if (guess == element):\n",
    "      return mid\n",
    "    if guess > element:\n",
    "      high = mid - 1\n",
    "    else: \n",
    "      low = mid + 1\n",
    "  return - 1\n",
    "\n",
    "sortArray = selectionSort(random_array)\n",
    "# sortArray = insertionSort(random_array)\n",
    "\n",
    "res = binarySearch(sortArray, search_element)\n",
    "print(f'Элемент {search_element} имеет индекс {res}')"
   ]
  },
  {
   "cell_type": "markdown",
   "metadata": {},
   "source": [
    "#### Быстрая сортировка\n"
   ]
  },
  {
   "cell_type": "code",
   "execution_count": 36,
   "metadata": {},
   "outputs": [
    {
     "name": "stdout",
     "output_type": "stream",
     "text": [
      "Копия исследуемого массива создана успешно\n"
     ]
    },
    {
     "ename": "IndexError",
     "evalue": "index 40 is out of bounds for axis 0 with size 0",
     "output_type": "error",
     "traceback": [
      "\u001b[0;31m---------------------------------------------------------------------------\u001b[0m",
      "\u001b[0;31mIndexError\u001b[0m                                Traceback (most recent call last)",
      "Cell \u001b[0;32mIn[36], line 20\u001b[0m\n\u001b[1;32m     17\u001b[0m     \u001b[38;5;28;01mreturn\u001b[39;00m quickSort(left) \u001b[38;5;241m+\u001b[39m [pivot] \u001b[38;5;241m+\u001b[39m quickSort(right)\n\u001b[1;32m     19\u001b[0m array \u001b[38;5;241m=\u001b[39m array_copy(random_array)\n\u001b[0;32m---> 20\u001b[0m \u001b[43mquickSort\u001b[49m\u001b[43m(\u001b[49m\u001b[43marray\u001b[49m\u001b[43m)\u001b[49m\n",
      "Cell \u001b[0;32mIn[36], line 17\u001b[0m, in \u001b[0;36mquickSort\u001b[0;34m(array)\u001b[0m\n\u001b[1;32m     15\u001b[0m   \u001b[38;5;28;01melse\u001b[39;00m:\n\u001b[1;32m     16\u001b[0m     np\u001b[38;5;241m.\u001b[39mappend(right, array[i])\n\u001b[0;32m---> 17\u001b[0m \u001b[38;5;28;01mreturn\u001b[39;00m \u001b[43mquickSort\u001b[49m\u001b[43m(\u001b[49m\u001b[43mleft\u001b[49m\u001b[43m)\u001b[49m \u001b[38;5;241m+\u001b[39m [pivot] \u001b[38;5;241m+\u001b[39m quickSort(right)\n",
      "Cell \u001b[0;32mIn[36], line 9\u001b[0m, in \u001b[0;36mquickSort\u001b[0;34m(array)\u001b[0m\n\u001b[1;32m      7\u001b[0m   \u001b[38;5;28;01mreturn\u001b[39;00m array\n\u001b[1;32m      8\u001b[0m \u001b[38;5;28;01melse\u001b[39;00m:\n\u001b[0;32m----> 9\u001b[0m   pivot \u001b[38;5;241m=\u001b[39m \u001b[43marray\u001b[49m\u001b[43m[\u001b[49m\u001b[43mrandom\u001b[49m\u001b[38;5;241;43m.\u001b[39;49m\u001b[43mrandint\u001b[49m\u001b[43m(\u001b[49m\u001b[38;5;241;43m2\u001b[39;49m\u001b[43m,\u001b[49m\u001b[43m \u001b[49m\u001b[43marray_len\u001b[49m\u001b[43m)\u001b[49m\u001b[43m]\u001b[49m\n\u001b[1;32m     10\u001b[0m   left \u001b[38;5;241m=\u001b[39m np\u001b[38;5;241m.\u001b[39marange(\u001b[38;5;241m0\u001b[39m)\n\u001b[1;32m     11\u001b[0m   right \u001b[38;5;241m=\u001b[39m np\u001b[38;5;241m.\u001b[39marange(\u001b[38;5;241m0\u001b[39m)\n",
      "\u001b[0;31mIndexError\u001b[0m: index 40 is out of bounds for axis 0 with size 0"
     ]
    }
   ],
   "source": [
    "def quickSort(array):\n",
    "  # pivot = array[random.randint(2, array_len)]\n",
    "  # left = np.arange(0)\n",
    "  # right = np.arange(0)\n",
    "\n",
    "  if array_len <= 1:\n",
    "    return array\n",
    "  else:\n",
    "    pivot = array[random.randint(2, array_len)]\n",
    "    left = np.arange(0)\n",
    "    right = np.arange(0)\n",
    "    for i in range(1, array_len):\n",
    "      if (array[i] <= pivot):\n",
    "        np.append(left, array[i])\n",
    "      else:\n",
    "        np.append(right, array[i])\n",
    "    return quickSort(left) + [pivot] + quickSort(right)\n",
    "\n",
    "array = array_copy(random_array)\n",
    "quickSort(array)"
   ]
  },
  {
   "cell_type": "code",
   "execution_count": 37,
   "metadata": {},
   "outputs": [
    {
     "name": "stdout",
     "output_type": "stream",
     "text": [
      "Копия исследуемого массива создана успешно\n"
     ]
    },
    {
     "ename": "TypeError",
     "evalue": "only integer scalar arrays can be converted to a scalar index",
     "output_type": "error",
     "traceback": [
      "\u001b[0;31m---------------------------------------------------------------------------\u001b[0m",
      "\u001b[0;31mTypeError\u001b[0m                                 Traceback (most recent call last)",
      "Cell \u001b[0;32mIn[37], line 16\u001b[0m\n\u001b[1;32m     13\u001b[0m       \u001b[38;5;28;01mreturn\u001b[39;00m quickSort(left) \u001b[38;5;241m+\u001b[39m [pivot] \u001b[38;5;241m+\u001b[39m quickSort(right)\n\u001b[1;32m     15\u001b[0m array \u001b[38;5;241m=\u001b[39m array_copy(random_array)\n\u001b[0;32m---> 16\u001b[0m \u001b[43mquickSort\u001b[49m\u001b[43m(\u001b[49m\u001b[43marray\u001b[49m\u001b[43m)\u001b[49m\n",
      "Cell \u001b[0;32mIn[37], line 8\u001b[0m, in \u001b[0;36mquickSort\u001b[0;34m(array)\u001b[0m\n\u001b[1;32m      6\u001b[0m \u001b[38;5;28;01melse\u001b[39;00m: \n\u001b[1;32m      7\u001b[0m   pivot \u001b[38;5;241m=\u001b[39m array[random\u001b[38;5;241m.\u001b[39mrandint(\u001b[38;5;241m2\u001b[39m, array_len)]\n\u001b[0;32m----> 8\u001b[0m   \u001b[38;5;28;01mfor\u001b[39;00m i \u001b[38;5;129;01min\u001b[39;00m \u001b[38;5;28;43mrange\u001b[39;49m\u001b[43m(\u001b[49m\u001b[43marray\u001b[49m\u001b[43m[\u001b[49m\u001b[38;5;241;43m1\u001b[39;49m\u001b[43m:\u001b[49m\u001b[43m]\u001b[49m\u001b[43m)\u001b[49m:\n\u001b[1;32m      9\u001b[0m     \u001b[38;5;28;01mif\u001b[39;00m array[i] \u001b[38;5;241m<\u001b[39m\u001b[38;5;241m=\u001b[39m pivot:\n\u001b[1;32m     10\u001b[0m       np\u001b[38;5;241m.\u001b[39mappend(left, array[i])\n",
      "\u001b[0;31mTypeError\u001b[0m: only integer scalar arrays can be converted to a scalar index"
     ]
    }
   ],
   "source": [
    "def quickSort(array):\n",
    "  left = []\n",
    "  right = []\n",
    "  if(array_len < 2):\n",
    "    return array\n",
    "  else: \n",
    "    pivot = array[random.randint(2, array_len)]\n",
    "    for i in range(array[1:]):\n",
    "      if array[i] <= pivot:\n",
    "        np.append(left, array[i])\n",
    "      else:\n",
    "        np.append(right, array[i])\n",
    "      return quickSort(left) + [pivot] + quickSort(right)\n",
    "\n",
    "array = array_copy(random_array)\n",
    "quickSort(array)"
   ]
  },
  {
   "cell_type": "markdown",
   "metadata": {},
   "source": [
    "#### Cортировка простым обменом (пузырьком)\n"
   ]
  },
  {
   "cell_type": "code",
   "execution_count": 38,
   "metadata": {},
   "outputs": [
    {
     "name": "stdout",
     "output_type": "stream",
     "text": [
      "Копия исследуемого массива создана успешно\n"
     ]
    },
    {
     "data": {
      "text/plain": [
       "array([-10, -10, -10, -10,  -9,  -9,  -9,  -9,  -9,  -9,  -9,  -9,  -8,\n",
       "        -8,  -8,  -8,  -7,  -7,  -6,  -6,  -6,  -6,  -6,  -5,  -5,  -5,\n",
       "        -5,  -4,  -4,  -4,  -4,  -4,  -4,  -3,  -3,  -3,  -3,  -2,  -2,\n",
       "        -2,  -2,  -1,  -1,  -1,  -1,  -1,  -1,  -1,  -1,   0,   0,   0,\n",
       "         1,   2,   2,   2,   2,   2,   2,   2,   2,   2,   2,   3,   3,\n",
       "         3,   3,   3,   4,   4,   4,   4,   5,   5,   6,   6,   6,   6,\n",
       "         6,   6,   6,   6,   6,   6,   7,   7,   7,   7,   7,   7,   7,\n",
       "         7,   8,   8,   8,   8,   8,   8,   9,   9])"
      ]
     },
     "execution_count": 38,
     "metadata": {},
     "output_type": "execute_result"
    }
   ],
   "source": [
    "def bubblSort(array):\n",
    "    for i in range(array_len):\n",
    "        for j in range(0, array_len - i - 1):\n",
    "            if array[j] > array[j + 1]:\n",
    "                array[j] = array[j + 1]\n",
    "                array[j + 1] = array[j]\n",
    "    return array\n",
    "\n",
    "array = array_copy(random_array)\n",
    "bubblSort(array)"
   ]
  },
  {
   "cell_type": "markdown",
   "metadata": {},
   "source": [
    "#### Анализ скорости выполнения методов алгоритма сортировки\n"
   ]
  },
  {
   "cell_type": "code",
   "execution_count": 39,
   "metadata": {},
   "outputs": [
    {
     "name": "stdout",
     "output_type": "stream",
     "text": [
      "Копия исследуемого массива создана успешно\n",
      "Timer unit: 1e-09 s\n",
      "\n",
      "Total time: 0.00351803 s\n",
      "File: /tmp/ipykernel_5781/3122978121.py\n",
      "Function: bubblSort at line 1\n",
      "\n",
      "Line #      Hits         Time  Per Hit   % Time  Line Contents\n",
      "==============================================================\n",
      "     1                                           def bubblSort(array):\n",
      "     2       101      18041.0    178.6      0.5      for i in range(array_len):\n",
      "     3      5050     970125.0    192.1     27.6          for j in range(0, array_len - i - 1):\n",
      "     4      4950    2529554.0    511.0     71.9              if array[j] > array[j + 1]:\n",
      "     5                                                           array[j] = array[j + 1]\n",
      "     6                                                           array[j + 1] = array[j]\n",
      "     7         1        311.0    311.0      0.0      return array\n",
      "\n",
      "Время начала выполнения: 2024-03-20 07:34:03.247274\n",
      "Время завершения выполнения: 2024-03-20 07:34:03.247274\n",
      "Время работы в секундах:  0:00:00.000024\n",
      "Время работы в наносекундах:  -1.2722999997549778e-05\n",
      "Время процесса:  1.1007999999979035e-05\n",
      "Время потока:  9.453000000103629e-06\n",
      "Timer unit: 1e-09 s\n",
      "\n",
      "Total time: 0.000134052 s\n",
      "File: /tmp/ipykernel_5781/803576643.py\n",
      "Function: insertionSort at line 1\n",
      "\n",
      "Line #      Hits         Time  Per Hit   % Time  Line Contents\n",
      "==============================================================\n",
      "     1                                           def insertionSort(array):\n",
      "     2       100      17347.0    173.5     12.9      for i in range(1, array_len):\n",
      "     3        99      27635.0    279.1     20.6          tmp = array[i]\n",
      "     4        99      19807.0    200.1     14.8          j = i - 1\n",
      "     5        99      37711.0    380.9     28.1          while (j >= 0 and array[j] > tmp):\n",
      "     6                                                       array[j + 1] = array[j]\n",
      "     7                                                       j -= 1\n",
      "     8        99      31379.0    317.0     23.4          array[j + 1] = tmp\n",
      "     9         1        173.0    173.0      0.1      return array\n",
      "\n",
      "Время начала выполнения: 2024-03-20 07:34:03.248084\n",
      "Время завершения выполнения: 2024-03-20 07:34:03.248084\n",
      "Время работы в секундах:  0:00:00.000016\n",
      "Время работы в наносекундах:  -1.0481999993317004e-05\n",
      "Время процесса:  9.929000000408195e-06\n",
      "Время потока:  9.386000000111139e-06\n",
      "Timer unit: 1e-09 s\n",
      "\n",
      "Total time: 0.00356377 s\n",
      "File: /tmp/ipykernel_5781/436194727.py\n",
      "Function: selectionSort at line 1\n",
      "\n",
      "Line #      Hits         Time  Per Hit   % Time  Line Contents\n",
      "==============================================================\n",
      "     1                                           def selectionSort(array):\n",
      "     2       100      17868.0    178.7      0.5      for i in range(array_len - 1):\n",
      "     3        99      16897.0    170.7      0.5          min_idx = i\n",
      "     4                                           \n",
      "     5      5049     905999.0    179.4     25.4          for j in range(i + 1, array_len):\n",
      "     6      4950    2559108.0    517.0     71.8              if array[j] < array[min_idx]:\n",
      "     7                                                           min_idx = j\n",
      "     8                                                           \n",
      "     9        99      63506.0    641.5      1.8          array[i], array[min_idx] = array[min_idx], array[i]\n",
      "    10         1        389.0    389.0      0.0      return array\n",
      "\n",
      "Время начала выполнения: 2024-03-20 07:34:03.254953\n",
      "Время завершения выполнения: 2024-03-20 07:34:03.254953\n",
      "Время работы в секундах:  0:00:00.000026\n",
      "Время работы в наносекундах:  -1.2835999996241299e-05\n",
      "Время процесса:  1.1009000000061775e-05\n",
      "Время потока:  9.098000000040685e-06\n"
     ]
    }
   ],
   "source": [
    "array = array_copy(random_array)\n",
    "\n",
    "getInfo (bubblSort, array)\n",
    "getInfo (insertionSort, array)\n",
    "getInfo (selectionSort, array)\n"
   ]
  },
  {
   "cell_type": "markdown",
   "metadata": {},
   "source": [
    "#### Далее:\n"
   ]
  },
  {
   "cell_type": "markdown",
   "metadata": {},
   "source": [
    "Сломал Быструю сортировку\n",
    "\n",
    "Блок анализа - сравнение всех методов сортировок по параметрам, желательно на выборке из 3, 10, 30, 100 массивов.\n",
    "\n",
    "Заключение - при сравнении было выясненно, что ... сравнение классификаций сортировок из литературы с полученными значениями, почему совпали или не совпали.\n"
   ]
  }
 ],
 "metadata": {
  "kernelspec": {
   "display_name": "Python 3",
   "language": "python",
   "name": "python3"
  },
  "language_info": {
   "codemirror_mode": {
    "name": "ipython",
    "version": 3
   },
   "file_extension": ".py",
   "mimetype": "text/x-python",
   "name": "python",
   "nbconvert_exporter": "python",
   "pygments_lexer": "ipython3",
   "version": "3.10.12"
  }
 },
 "nbformat": 4,
 "nbformat_minor": 2
}
