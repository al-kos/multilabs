{
 "cells": [
  {
   "cell_type": "markdown",
   "metadata": {},
   "source": [
    "# Теория алгоритмов. Лабораторная работа.\n",
    "\n",
    "Выполнил: _Алексей Косенко ИСТ-2022_\n"
   ]
  },
  {
   "cell_type": "markdown",
   "metadata": {},
   "source": [
    "#### Введение\n"
   ]
  },
  {
   "cell_type": "markdown",
   "metadata": {},
   "source": [
    "В качестве <b>практической проблемы</b> данной лабораторный работы, рассматривается задача преобразования массива, содержащего произвольные целые числа, к виду, когда каждый элемент преобразованного массива находится перед другим элементом этого массива, если его значение меньше (больше), чем значение сравниваемого элемента, и поиска конкретного элемента в массиве.\n"
   ]
  },
  {
   "cell_type": "markdown",
   "metadata": {},
   "source": [
    "#### Цели и задачи\n"
   ]
  },
  {
   "cell_type": "markdown",
   "metadata": {},
   "source": [
    "<b>Цель работы</b> — получение навыков основных приемов использования массивов, методов доступа к элементам массивов, их реорганизации и модификации.\n",
    "\n",
    "<b>Задачами</b> данной лабораторной работы являются:\n",
    "\n",
    "1. Реализация следующих алгоритмов:\n",
    "   - линейный поиск элемента в массиве;\n",
    "   - метод двоичного поиска элемента в упорядоченном массиве;\n",
    "   - метод сортировки выбором;\n",
    "   - метод сортировки включениями;\n",
    "   - метод быстрой сортировки;\n",
    "   - метод сортировки простым обменом (пузырьком).\n",
    "2. Демонстрация работоспособности реализаций:\n",
    "   - контроль работоспособности каждого из методов;\n",
    "   - контроль временных характеристик всех реализованных методов.\n",
    "3. Сравнительный анализ методов сортировки по временной характеристике.\n"
   ]
  },
  {
   "cell_type": "markdown",
   "metadata": {},
   "source": [
    "#### Ход работы:\n"
   ]
  },
  {
   "cell_type": "markdown",
   "metadata": {},
   "source": [
    "1. Разработка программы состоит из:\n",
    "\n",
    "   - Разработка модуля создания массива случайных чисел;\n",
    "   - Разработка модуля измерения времени выполнения программы;\n",
    "   - Разработка модулей реализации методов линейного и двоичного поиска элемента массива;\n",
    "   - Разработка модулей алгоритмов сортировки методом выбора, пузырька, включения, быстрой сортировки;\n",
    "   - Разработка реализации диалога с пользователем;\n",
    "   - Разработка модуля построения диаграмм и графиков эффективности алгоритмов сортировки\n",
    "\n",
    "2. Для простоты изложения описания алгоритмов примеры выпонение задач сортировки массивов будут проводиться по возрастанию.\n",
    "\n",
    "3. Значения элементов массива (случайных чисел) и ограничение размера массива (целое число) задается пользователем.\n",
    "\n",
    "4. При значении количества элементов массива менее 20, выводом программы является:\n",
    "   - неупорядоченный массив случайных чисел;\n",
    "   - количество элементов массива случайных чисел;\n",
    "   - массив после сортировки для каждого из алгоритмов сортировки.\n",
    "5. При значении количества элементов массива более 20, выводом программы является:\n",
    "\n",
    "   - первые и последние 10 элементов неупорядоченного массива случайных чисел;\n",
    "   - количество элементов массива случайных чисел;\n",
    "   - первые и последние 10 элементов массива после сортировки и время сортировки для каждого из видов алгоритмов сортировки.\n",
    "\n",
    "6. Содержимое массива формируется с помощью библиотек numpy и встроенного модуля random.\n",
    "\n",
    "7. Измерения времени выполения производится средствами _time_ (библиотеку указать).\n",
    "\n",
    "8. Поля для ввода пользовательских данных сопровождаются описанием.\n",
    "\n",
    "9. Структура программы отображает ход лабораторной работы, код программы сопровождается комментариями, отображающие назначение функций и употребляемых в них параметров (переменных).\n"
   ]
  },
  {
   "cell_type": "markdown",
   "metadata": {},
   "source": [
    "#### Импорт библиотек\n"
   ]
  },
  {
   "cell_type": "code",
   "execution_count": null,
   "metadata": {},
   "outputs": [],
   "source": [
    "import numpy as np # библиотека NumPy для использования массива как структуры данных\n",
    "import random # модуль random предоставляет функции для генерации случайных чисел.\n",
    "import time # модуль time\n",
    "import datetime # модуль datetime\n",
    "from line_profiler import LineProfiler\n",
    "print('Импорт библиотек завершен')"
   ]
  },
  {
   "cell_type": "markdown",
   "metadata": {},
   "source": [
    "#### Пользовательский ввод\n"
   ]
  },
  {
   "cell_type": "code",
   "execution_count": null,
   "metadata": {},
   "outputs": [],
   "source": [
    "elem_start_limit = int(input('Введите начальное целое число для формирования случайного значения элемента массива: '))\n",
    "elem_finish_limit = int(input('Введите конечное целое число для формирования случайного значения элемента массива: '))\n",
    "array_elem_limit = int(input('Введите максимальное количество элементов массива случайных чисел: '))\n",
    "search_element = int(input('Введите значение элемента для поиска: '))\n",
    "print(f'Данные для формирования массива случайных чисел от {elem_start_limit} до {elem_finish_limit} приняты, заданная длина массива: {array_elem_limit}\\nЗначение элемента для поиска: {search_element}')"
   ]
  },
  {
   "cell_type": "markdown",
   "metadata": {},
   "source": [
    "#### Создание массива случайных чисел и его копии\n"
   ]
  },
  {
   "cell_type": "code",
   "execution_count": null,
   "metadata": {},
   "outputs": [],
   "source": [
    "def generate_random_array (elem_start_limit = -100, elem_finish_limit = 100, size = array_elem_limit): # функция генерирует массив случайных чисел. Аргументы - пользовательский ввод.\n",
    "  random_array = np.random.randint(elem_start_limit, elem_finish_limit, size = array_elem_limit, dtype=int)\n",
    "  if (array_elem_limit <= 20): # проверка массива на количество элементов\n",
    "    print(f'Сформирован неотсортированный массив случайных чисел, длинною менее 20 элементов:\\n{random_array}\\nДлина массива: {array_elem_limit}')\n",
    "  else:\n",
    "    print(f'Сформирован неотсортированный массив случайных чисел, длинною более 20 элементов.\\nПервые 10 элементов массива: {random_array[:10]}\\nПоследние 10 элементов массива: {random_array[-10:]}\\nДлина массива: {len(random_array)}')\n",
    "  return random_array\n",
    "\n",
    "def array_copy (array): # функция-обертка для создания копии массива\n",
    "  print('Копия исследуемого массива создана успешно')\n",
    "  array_copy = np.copy(array)\n",
    "  return array_copy"
   ]
  },
  {
   "cell_type": "markdown",
   "metadata": {},
   "source": [
    "#### Переменные\n"
   ]
  },
  {
   "cell_type": "code",
   "execution_count": null,
   "metadata": {},
   "outputs": [],
   "source": [
    "random_array = generate_random_array (elem_start_limit, elem_finish_limit, array_elem_limit) # неупорядоченный массив случайных чисел \n",
    "array_len = len(random_array) # длина неупорядоченного массива случайных чисел"
   ]
  },
  {
   "cell_type": "markdown",
   "metadata": {},
   "source": [
    "#### Измерение параметров выполнения алгоритма\n"
   ]
  },
  {
   "cell_type": "code",
   "execution_count": null,
   "metadata": {},
   "outputs": [],
   "source": [
    "def getTime (fn): # функция для измерения времени работы программного кода\n",
    "\n",
    "  start = datetime.datetime.now() # Фиксируется и выводится время старта работы кода\n",
    "  print('Время начала выполнения: ' + str(start))\n",
    "\n",
    "  start_ns = time.perf_counter() # Фиксируется время в наносекундах\n",
    "  start_procces = time.process_time() # Фиксируется время процесса\n",
    "  start_thread = time.thread_time() # Фиксируется время потока\n",
    "\n",
    "  fn # Код, время работы которого измеряется\n",
    "\n",
    "  finish = datetime.datetime.now() # Фиксируется и выводится время окончания работы кода\n",
    "  print('Время завершения выполнения: ' + str(start))\n",
    "\n",
    "  finish_ns = time.perf_counter() # Фиксируется время в наносекундах\n",
    "  finish_procces = time.process_time() # Фиксируется время процесса\n",
    "  finish_thread = time.thread_time() # Фиксируется время потока\n",
    "\n",
    "  res = finish - start # Результат вычитания время старта из времени окончания \n",
    "\n",
    "  res_ns = start_ns - finish_ns # Результат вычитания время старта из времени окончания в наносекундах, без зафисимости от системных часов для уменьшения погрешностей\n",
    "  res_procces = finish_procces - start_procces # Результат времени процесса\n",
    "  res_thread = finish_thread - start_thread # Результат времени потока\n",
    "  print('Время работы в секундах: ', res)\n",
    "  print('Время работы в наносекундах: ', res_ns)\n",
    "  print('Время процесса: ', res_procces)\n",
    "  print('Время потока: ', res_thread)\n",
    "\n",
    "def getStats (fn, array): # функция для измерения статистики работы программного кода\n",
    "  lp = LineProfiler()\n",
    "  lp_wrapper = lp(fn)\n",
    "  lp_wrapper(array)\n",
    "  lp.print_stats()\n",
    "\n",
    "def getInfo (fn, array): # функция сбора информации о работе программного кода\n",
    "  getTime (fn)\n",
    "  getStats(fn, array)"
   ]
  },
  {
   "cell_type": "markdown",
   "metadata": {},
   "source": [
    "#### Поиск максимального элемента в массиве\n"
   ]
  },
  {
   "cell_type": "code",
   "execution_count": null,
   "metadata": {},
   "outputs": [],
   "source": [
    "testing_array = array_copy(random_array)\n",
    "\n",
    "def custom_search_max_elem(array):\n",
    "    max_value = array[0]\n",
    "    for i in range(1, len(array)):\n",
    "        if array[i] > max_value:\n",
    "            max_value = array[i]\n",
    "    print(f'Максимальное число в массиве: {max_value}')\n",
    "    return max_value\n",
    "\n",
    "def lib_search_max_elem (array):\n",
    "    lib_max_elem = np.max(array)\n",
    "    return lib_max_elem\n",
    "\n",
    "custom_search_max_elem(testing_array)\n",
    "\n",
    "print(f'Максимальное число методом библиотеки NumPy: {lib_search_max_elem(testing_array)}')"
   ]
  },
  {
   "cell_type": "markdown",
   "metadata": {},
   "source": [
    "##### Статистика кастомного и библиотечного методов поиска элемента с максимальным значением\n"
   ]
  },
  {
   "cell_type": "code",
   "execution_count": null,
   "metadata": {},
   "outputs": [],
   "source": [
    "print('Статистика кастомного метода поиска:\\n')\n",
    "getInfo (custom_search_max_elem, testing_array)\n",
    "print('Статистика библиотечного метода поиска:\\n')\n",
    "getInfo (lib_search_max_elem, testing_array)"
   ]
  },
  {
   "cell_type": "markdown",
   "metadata": {},
   "source": [
    "#### Поиск элемента в массиве методом линейного поиска\n"
   ]
  },
  {
   "cell_type": "code",
   "execution_count": null,
   "metadata": {},
   "outputs": [],
   "source": [
    "def linealSearch (array, element):\n",
    "  index_elem = 0 # Стартовый индекс\n",
    "\n",
    "  while (index_elem < array_len and array[index_elem] != element): # Пока индекс элемента меньше длины массива и значение элемента массива не равно искомому элементу:\n",
    "      index_elem = index_elem + 1 # Увеличение элемента на 1\n",
    "  if (index_elem < array_len): \n",
    "     print(f'Индекс искомого элемента: {index_elem}')\n",
    "     return index_elem # Если элемент найден - возвращается индекс элемента\n",
    "  print(f'Элемент {element} не найден')\n",
    "  return -1 # Если элемент не найден - возвращается -1 \n",
    "\n",
    "def linearSearch_with_for (array, element):\n",
    "    for i in range (len(array)):\n",
    "        if array[i] == element:\n",
    "            print(f'Индекс искомого элемента: {i}')\n",
    "            return i\n",
    "    print(f'Элемент {element} не найден')\n",
    "    return -1\n",
    "\n",
    "array_ls = array_copy(random_array)\n",
    "\n",
    "linealSearch(array_ls, search_element)\n",
    "linearSearch_with_for(array_ls, search_element)"
   ]
  },
  {
   "cell_type": "markdown",
   "metadata": {},
   "source": [
    "#### Поиск элемента в массиве методом бинарного поиска\n"
   ]
  },
  {
   "cell_type": "code",
   "execution_count": null,
   "metadata": {},
   "outputs": [],
   "source": [
    "# def binarySearch (array, element):\n",
    "#   idx_start_elem = 0\n",
    "#   idx_finish_elem = array_len - 1\n",
    "\n",
    "#   while idx_start_elem <= idx_finish_elem:\n",
    "#       idx_middle_elem = round((idx_start_elem + idx_finish_elem) / 2)\n",
    "#       if array[idx_middle_elem] == element:\n",
    "#         print(f'Индекс искомого элемента: {idx_middle_elem}')\n",
    "#         return idx_middle_elem\n",
    "#       elif array[idx_middle_elem] < element:\n",
    "#         idx_start_elem = idx_middle_elem + 1\n",
    "#       else:\n",
    "#         idx_finish_elem = idx_middle_elem - 1\n",
    "\n",
    "#   print(f'Элемент {element} не найден')\n",
    "#   return -1\n",
    "\n",
    "# array = array_copy(random_array)\n",
    "\n",
    "# binarySearch(array, search_element) "
   ]
  },
  {
   "cell_type": "markdown",
   "metadata": {},
   "source": [
    "#### Сортировка выбором\n"
   ]
  },
  {
   "cell_type": "code",
   "execution_count": null,
   "metadata": {},
   "outputs": [],
   "source": [
    "def selectionSort(array):\n",
    "    for i in range(array_len - 1):\n",
    "        min_idx = i\n",
    "\n",
    "        for j in range(i + 1, array_len):\n",
    "            if array[j] < array[min_idx]:\n",
    "                min_idx = j\n",
    "                \n",
    "        array[i], array[min_idx] = array[min_idx], array[i]\n",
    "    return array\n",
    "\n",
    "array_ss = array_copy(random_array)\n",
    "selectionSort(array_ss)"
   ]
  },
  {
   "cell_type": "markdown",
   "metadata": {},
   "source": [
    "#### Сортировка включениями (вставками)\n"
   ]
  },
  {
   "cell_type": "code",
   "execution_count": null,
   "metadata": {},
   "outputs": [],
   "source": [
    "def insertionSort(array):\n",
    "    for i in range(1, array_len):\n",
    "        tmp = array[i]\n",
    "        j = i - 1\n",
    "        while (j >= 0 and array[j] > tmp):\n",
    "            array[j + 1] = array[j]\n",
    "            j -= 1\n",
    "        array[j + 1] = tmp\n",
    "    return array\n",
    "\n",
    "array_is = array_copy(random_array)\n",
    "insertionSort(array_is)"
   ]
  },
  {
   "cell_type": "markdown",
   "metadata": {},
   "source": [
    "#### Поиск элемента в массиве методом бинарного поиска\n"
   ]
  },
  {
   "cell_type": "code",
   "execution_count": null,
   "metadata": {},
   "outputs": [],
   "source": [
    "def binarySearch (array, element):\n",
    "  low = 0\n",
    "  # high = array_len - 1\n",
    "  high = len(array) - 1\n",
    "\n",
    "  while low <= high:\n",
    "    mid = round((low + high) / 2)\n",
    "    guess = array[mid]\n",
    "    if (guess == element):\n",
    "      return mid\n",
    "    if guess > element:\n",
    "      high = mid - 1\n",
    "    else: \n",
    "      low = mid + 1\n",
    "  return - 1\n",
    "\n",
    "sortArray = selectionSort(random_array)\n",
    "# sortArray = insertionSort(random_array)\n",
    "\n",
    "res = binarySearch(sortArray, search_element)\n",
    "print(f'Элемент {search_element} имеет индекс {res}')"
   ]
  },
  {
   "cell_type": "markdown",
   "metadata": {},
   "source": [
    "#### Быстрая сортировка\n"
   ]
  },
  {
   "cell_type": "code",
   "execution_count": null,
   "metadata": {},
   "outputs": [],
   "source": [
    "def quickSort(array):\n",
    "  # pivot = array[random.randint(2, array_len)]\n",
    "  # left = np.arange(0)\n",
    "  # right = np.arange(0)\n",
    "\n",
    "  if array_len <= 1:\n",
    "    return array\n",
    "  else:\n",
    "    pivot = array[random.randint(2, array_len)]\n",
    "    left = np.arange(0)\n",
    "    right = np.arange(0)\n",
    "    for i in range(1, array_len):\n",
    "      if (array[i] <= pivot):\n",
    "        np.append(left, array[i])\n",
    "      else:\n",
    "        np.append(right, array[i])\n",
    "    return quickSort(left) + [pivot] + quickSort(right)\n",
    "\n",
    "array = array_copy(random_array)\n",
    "quickSort(array)"
   ]
  },
  {
   "cell_type": "code",
   "execution_count": null,
   "metadata": {},
   "outputs": [],
   "source": [
    "def quickSort(array):\n",
    "  left = []\n",
    "  right = []\n",
    "  if(array_len < 2):\n",
    "    return array\n",
    "  else: \n",
    "    pivot = array[random.randint(2, array_len)]\n",
    "    for i in range(array[1:]):\n",
    "      if array[i] <= pivot:\n",
    "        np.append(left, array[i])\n",
    "      else:\n",
    "        np.append(right, array[i])\n",
    "      return quickSort(left) + [pivot] + quickSort(right)\n",
    "\n",
    "array = array_copy(random_array)\n",
    "quickSort(array)"
   ]
  },
  {
   "cell_type": "markdown",
   "metadata": {},
   "source": [
    "#### Cортировка простым обменом (пузырьком)\n"
   ]
  },
  {
   "cell_type": "code",
   "execution_count": null,
   "metadata": {},
   "outputs": [],
   "source": [
    "def bubblSort(array):\n",
    "    for i in range(array_len):\n",
    "        for j in range(0, array_len - i - 1):\n",
    "            if array[j] > array[j + 1]:\n",
    "                array[j] = array[j + 1]\n",
    "                array[j + 1] = array[j]\n",
    "    return array\n",
    "\n",
    "array = array_copy(random_array)\n",
    "bubblSort(array)"
   ]
  },
  {
   "cell_type": "markdown",
   "metadata": {},
   "source": [
    "#### Анализ скорости выполнения методов алгоритма сортировки\n"
   ]
  },
  {
   "cell_type": "code",
   "execution_count": null,
   "metadata": {},
   "outputs": [],
   "source": [
    "array = array_copy(random_array)\n",
    "\n",
    "getInfo (bubblSort, array)\n",
    "getInfo (insertionSort, array)\n",
    "getInfo (selectionSort, array)\n"
   ]
  },
  {
   "cell_type": "markdown",
   "metadata": {},
   "source": [
    "#### Далее:\n"
   ]
  },
  {
   "cell_type": "markdown",
   "metadata": {},
   "source": [
    "Сломал Быструю сортировку\n",
    "\n",
    "Блок анализа - сравнение всех методов сортировок по параметрам, желательно на выборке из 3, 10, 30, 100 массивов.\n",
    "\n",
    "Заключение - при сравнении было выясненно, что ... сравнение классификаций сортировок из литературы с полученными значениями, почему совпали или не совпали.\n"
   ]
  }
 ],
 "metadata": {
  "kernelspec": {
   "display_name": "Python 3",
   "language": "python",
   "name": "python3"
  },
  "language_info": {
   "codemirror_mode": {
    "name": "ipython",
    "version": 3
   },
   "file_extension": ".py",
   "mimetype": "text/x-python",
   "name": "python",
   "nbconvert_exporter": "python",
   "pygments_lexer": "ipython3",
   "version": "3.10.12"
  }
 },
 "nbformat": 4,
 "nbformat_minor": 2
}
